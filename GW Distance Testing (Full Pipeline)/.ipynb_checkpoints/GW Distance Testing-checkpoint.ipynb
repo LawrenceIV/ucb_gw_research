{
 "cells": [
  {
   "cell_type": "code",
   "execution_count": 1,
   "metadata": {},
   "outputs": [],
   "source": [
    "import GWDistancePipeline\n",
    "import numpy as np\n",
    "from astropy.table import Table\n",
    "import matplotlib.pyplot as plt\n",
    "\n",
    "%matplotlib notebook"
   ]
  },
  {
   "cell_type": "code",
   "execution_count": 2,
   "metadata": {},
   "outputs": [],
   "source": [
    "ss_calc = GWDistancePipeline.Standard_Siren_caclulator"
   ]
  },
  {
   "cell_type": "markdown",
   "metadata": {},
   "source": [
    "# Data (Sample 1)"
   ]
  },
  {
   "cell_type": "code",
   "execution_count": 3,
   "metadata": {},
   "outputs": [],
   "source": [
    "GW190521 = np.load('GW190521.npz')\n",
    "GW190814 = np.load('GW190814.npz')\n",
    "GW190412 = np.load('GW190412.npz')\n",
    "GW190425 = np.load('GW190425.npz')\n",
    "GW170817 = np.load('GW170817.npz')\n",
    "GW170814 = np.load('GW170814.npz')\n",
    "GW170608 = np.load('GW170608.npz')\n",
    "GW170104 = np.load('GW170104.npz')\n",
    "GW151226 = np.load('GW151226.npz')\n",
    "GW150914 = np.load('GW150914.npz')"
   ]
  },
  {
   "cell_type": "code",
   "execution_count": 4,
   "metadata": {},
   "outputs": [],
   "source": [
    "GW190521_strain_arr = GW190521['strain']\n",
    "GW190814_strain_arr = GW190814['strain']\n",
    "GW190412_strain_arr = GW190412['strain']\n",
    "GW190425_strain_arr = GW190425['strain']\n",
    "GW170817_strain_arr = GW170817['strain']\n",
    "GW170814_strain_arr = GW170814['strain']\n",
    "GW170608_strain_arr = GW170608['strain']\n",
    "GW170104_strain_arr = GW170104['strain']\n",
    "GW151226_strain_arr = GW151226['strain']\n",
    "GW150914_strain_arr = GW150914['strain']"
   ]
  },
  {
   "cell_type": "markdown",
   "metadata": {},
   "source": [
    "# Module Calibration Test"
   ]
  },
  {
   "cell_type": "code",
   "execution_count": 5,
   "metadata": {},
   "outputs": [],
   "source": [
    "# Origional Data\n",
    "\n",
    "# Input Arrays for best_distances\n",
    "GW_name = ['GW190521', 'GW190814', 'GW190412', 'GW190425','GW170817 (kilanova)',  'GW170814', \n",
    "          'GW170608', 'GW170104', 'GW151226', 'GW150914']\n",
    "\n",
    "ld = [5300, 241, 740, 159, 40, 600, 320, 990, 450, 440] # Mpc\n",
    "ld_up_un = [2400, 41, 130, 69, 7, 150, 120, 440, 180, 150] # Mpc\n",
    "ld_dn_un = [2600, 45, 160, 71, 15, 220, 110, 430, 190, 170] # Mpc\n",
    "\n",
    "time = [32, 32, 32, 32, 32, 32, 32, 32, 32, 32] # s\n",
    "\n",
    "mass = [150, 25.8, 38.4, 3.4, 2.8, 53.2, 17.8, 48.9, 20.5, 63.1] # M_sol\n",
    "mass_up_err = [29,1, 3.8, 0.3, 0, 3.2, 3.4, 5.1, 6.4, 3.4] # M_sol\n",
    "mass_dn_err = [17, 0.9, 3.9, 0.1, 0, 2.4, 0.7, 4.0, 1.5, 3.0] # M_sol\n",
    "\n",
    "z_act = [0.82, 0.053, 0.15, 0.03, 0.01, 0.12, 0.07, 0.20, 0.09, 0.09] # kila nova has 0 error in z\n",
    "z_up_err = [0.28, 0.009, 0.03, 0.01, 0, 0.03, 0.02, 0.08, 0.04, 0.03]\n",
    "z_dn_err = [0.34, 0.010, 0.03, 0.02, 0, 0.04, 0.02, 0.08, 0.04, 0.03]\n",
    "\n",
    "str_arr = [np.array(GW190521_strain_arr), np.array(GW190814_strain_arr), np.array(GW190412_strain_arr),\n",
    "          np.array(GW190425_strain_arr), np.array(GW170817_strain_arr), np.array(GW170814_strain_arr),\n",
    "           np.array(GW170608_strain_arr), np.array(GW170104_strain_arr), np.array(GW151226_strain_arr), \n",
    "           np.array(GW150914_strain_arr)]\n",
    "\n",
    "strain_max = GWDistancePipeline.max_strain(str_arr)\n",
    "strain_avg = GWDistancePipeline.avg_strain(str_arr)\n",
    "\n",
    "\n",
    "ld_ulim = []\n",
    "ld_llim = [] \n",
    "\n",
    "mass_ulim = []\n",
    "mass_llim = []\n",
    "\n",
    "z_ulim_act = []\n",
    "z_llim_act = []\n",
    "\n",
    "for i in np.arange(len(ld)):\n",
    "    d_ulim = ld[i] + ld_up_un[i]\n",
    "    d_llim = ld[i] - ld_dn_un[i]\n",
    "    \n",
    "    m_ulim = mass[i] + mass_up_err[i]\n",
    "    m_llim = mass[i] - mass_dn_err[i]\n",
    "    \n",
    "    z_ulim = z_act[i] + z_up_err[i]\n",
    "    z_llim = z_act[i] - z_dn_err[i]\n",
    "    \n",
    "    ld_ulim.append(d_ulim)\n",
    "    ld_llim.append(d_llim)\n",
    "    \n",
    "    mass_ulim.append(m_ulim)\n",
    "    mass_llim.append(m_llim)\n",
    "    \n",
    "    z_ulim_act.append(z_ulim)\n",
    "    z_llim_act.append(z_llim)"
   ]
  },
  {
   "cell_type": "code",
   "execution_count": 6,
   "metadata": {},
   "outputs": [],
   "source": [
    "#strain_max, strain_avg"
   ]
  },
  {
   "cell_type": "code",
   "execution_count": 7,
   "metadata": {},
   "outputs": [
    {
     "name": "stdout",
     "output_type": "stream",
     "text": [
      "Results for each GW\n",
      "GW170817 (kilanova)\n",
      "-------------------\n",
      "z ≈ 0.01\n",
      "n ≈ 9\n",
      "D_guess ~ 39.966 ± 7.0 Mpc\n",
      "i_guess ≈ 2.652 rad, 152.0°\n",
      "H0_estimate ≈ 75.063 ± 0.205 km/s/Mpc\n",
      "\n",
      "GW190425\n",
      "-------------------\n",
      "z ≈ 0.03\n",
      "n ≈ 9\n",
      "D_guess ~ 159.001 ± 69.0 Mpc\n",
      "i_guess ≈ 3.054 rad, 175.0°\n",
      "H0_estimate ≈ 56.603 ± 18.87 km/s/Mpc\n",
      "\n",
      "GW170608\n",
      "-------------------\n",
      "z ≈ 0.07\n",
      "n ≈ 3\n",
      "D_guess ~ 320.145 ± 120.0 Mpc\n",
      "i_guess ≈ 0.528 rad, 30.0°\n",
      "H0_estimate ≈ 65.595 ± 19.082 km/s/Mpc\n",
      "\n",
      "GW150914\n",
      "-------------------\n",
      "z ≈ 0.09\n",
      "n ≈ 1\n",
      "D_guess ~ 439.46 ± 150.0 Mpc\n",
      "i_guess ≈ 1.225 rad, 70.0°\n",
      "H0_estimate ≈ 61.439 ± 29.31 km/s/Mpc\n",
      "\n",
      "GW151226\n",
      "-------------------\n",
      "z ≈ 0.09\n",
      "n ≈ 3\n",
      "D_guess ~ 450.039 ± 180.0 Mpc\n",
      "i_guess ≈ 0.616 rad, 35.0°\n",
      "H0_estimate ≈ 59.995 ± 26.94 km/s/Mpc\n",
      "\n",
      "GW190521\n",
      "-------------------\n",
      "z ≈ 0.82\n",
      "n ≈ 1\n",
      "D_guess ~ 5294.293 ± 2400.0 Mpc\n",
      "i_guess ≈ 0.892 rad, 51.0°\n",
      "H0_estimate ≈ 46.465 ± 26.367 km/s/Mpc\n",
      "\n",
      "--\n",
      " \n",
      "Final Results\n",
      "------------------------\n",
      "H0 including GW170817: H0 ~ 75.056 ± 0.2048 km/s/Mpc\n",
      "H0 excluding GW170817: H0 ~ 58.744 ± 10.2409 km/s/Mpc\n",
      " \n",
      "Returns: d_new_dom, d_old, inc_old_val, d_new_val, inc_new_val, n_guess\n"
     ]
    }
   ],
   "source": [
    "d_new_dom, d_old, inc_old_val, d_new_val, inc_new_val, n_guess = ss_calc(ld, time, mass, strain_max, z_act, \n",
    "                                                                         GW_name, ld_up_un, z_up_err, \n",
    "                                                                         inc_tsting=True, prt=True)"
   ]
  },
  {
   "cell_type": "code",
   "execution_count": null,
   "metadata": {},
   "outputs": [],
   "source": []
  },
  {
   "cell_type": "code",
   "execution_count": null,
   "metadata": {},
   "outputs": [],
   "source": []
  },
  {
   "cell_type": "markdown",
   "metadata": {},
   "source": [
    "# Inclination Angle"
   ]
  },
  {
   "cell_type": "code",
   "execution_count": 8,
   "metadata": {},
   "outputs": [],
   "source": [
    "incs = np.linspace(0, np.pi, 500)  # inc domain \n",
    "d_old_dom = []\n",
    "\n",
    "for x in np.arange(len(time)):\n",
    "    d = []\n",
    "    for i in np.arange(len(incs)):\n",
    "        d.append(GWDistancePipeline.distance_to_GW(time[x], mass[x], strain_max[x],incs[i]))\n",
    "    d_old_dom.append(d)"
   ]
  },
  {
   "cell_type": "code",
   "execution_count": 9,
   "metadata": {},
   "outputs": [
    {
     "data": {
      "text/plain": [
       "(500, 500)"
      ]
     },
     "execution_count": 9,
     "metadata": {},
     "output_type": "execute_result"
    }
   ],
   "source": [
    "len(incs), len(d_old_dom[0])"
   ]
  },
  {
   "cell_type": "code",
   "execution_count": 10,
   "metadata": {},
   "outputs": [
    {
     "data": {
      "text/plain": [
       "(500, 500, 500, 10, 10, 10, 10, 10, 10)"
      ]
     },
     "execution_count": 10,
     "metadata": {},
     "output_type": "execute_result"
    }
   ],
   "source": [
    "len(incs), len(d_old_dom[0]), len(d_new_dom[0]), len(d_old), len(inc_old_val), len(d_new_val),len(inc_new_val), len(n_guess), len(ld)"
   ]
  },
  {
   "cell_type": "code",
   "execution_count": 11,
   "metadata": {},
   "outputs": [
    {
     "data": {
      "image/png": "[encoded data removed]",
      "text/plain": [
       "<Figure size 576x360 with 1 Axes>"
      ]
     },
     "metadata": {
      "needs_background": "light"
     },
     "output_type": "display_data"
    }
   ],
   "source": [
    "x = 0\n",
    "\n",
    "plt.figure(figsize=(8,5))\n",
    "\n",
    "plt.plot(incs, d_old_dom[x], label = 'Distance model (no n_guess)')\n",
    "plt.plot(incs, d_new_dom[x], label = 'Distance model (n_guess = ' + str(n_guess[x]) + ')')\n",
    "plt.hlines(ld[x], min(incs), max(incs), label = 'd_LIGO = '+ str(int(ld[x])) + ' Mpc', color = 'k', linestyle = ':')\n",
    "\n",
    "plt.hlines(d_old[x], min(incs), max(incs), \n",
    "           label = 'd_old = ' + str(int(d_old[x])) + ' Mpc: i = ' + str(np.round(inc_old_val[x],3)) + ' rads'\n",
    "           , color = 'r', linestyle = '--')\n",
    "plt.hlines(d_new_val[x], min(incs), max(incs)\n",
    "           , label = 'd_new = ' + str(int(d_new_val[x])) + ' Mpc: i = ' + str(np.round(inc_new_val[x],3)) + ' rads'\n",
    "           , color = 'g', linestyle  = '-.')\n",
    "\n",
    "plt.xlabel('Inclination Angle [rad]')\n",
    "plt.ylabel('Distance [Mpc]')\n",
    "plt.title('Distance vs Inc : ' + str(GW_name[x]))\n",
    "plt.legend(fontsize=5)\n",
    "plt.grid()\n",
    "plt.show()"
   ]
  },
  {
   "cell_type": "code",
   "execution_count": 12,
   "metadata": {},
   "outputs": [
    {
     "data": {
      "text/plain": [
       "('GW190521', 2.251, 0.892, 1.0)"
      ]
     },
     "execution_count": 12,
     "metadata": {},
     "output_type": "execute_result"
    }
   ],
   "source": [
    "GW_name[x], inc_old_val[x], inc_new_val[x], n_guess[x]"
   ]
  },
  {
   "cell_type": "code",
   "execution_count": 13,
   "metadata": {},
   "outputs": [
    {
     "data": {
      "text/plain": [
       "5294.292888896507"
      ]
     },
     "execution_count": 13,
     "metadata": {},
     "output_type": "execute_result"
    }
   ],
   "source": [
    "dist = GWDistancePipeline.distance_to_GW(time[x], mass[x], strain_max[x],inc_new_val[x])\n",
    "dist"
   ]
  },
  {
   "cell_type": "code",
   "execution_count": 14,
   "metadata": {},
   "outputs": [],
   "source": [
    "mass_dom = np.linspace(mass_llim[x], mass_ulim[x], num = len(incs))"
   ]
  },
  {
   "cell_type": "code",
   "execution_count": 15,
   "metadata": {},
   "outputs": [
    {
     "data": {
      "image/png": "[encoded data removed]",
      "text/plain": [
       "<Figure size 576x360 with 1 Axes>"
      ]
     },
     "metadata": {
      "needs_background": "light"
     },
     "output_type": "display_data"
    }
   ],
   "source": [
    "x = 8\n",
    "mass_dom = np.linspace(mass_llim[x], mass_ulim[x], num = len(incs)) \n",
    "\n",
    "plt.figure(figsize=(8,5))\n",
    "\n",
    "plt.plot(mass_dom, d_old_dom[x], label = 'Distance model (no n_guess)')\n",
    "plt.plot(mass_dom, d_new_dom[x], label = 'Distance model (n_guess = ' + str(n_guess[x]) + ')')\n",
    "plt.hlines(ld[x], min(mass_dom), max(mass_dom), label = 'd_LIGO = '+ str(int(ld[x])) + ' Mpc', color = 'k', linestyle = ':')\n",
    "\n",
    "plt.hlines(d_old[x], min(mass_dom), max(mass_dom), \n",
    "           label = 'd_old = ' + str(int(d_old[x])) + ' Mpc: i = ' + str(np.round(inc_old_val[x],3)) + ' rads'\n",
    "           , color = 'r', linestyle = '--')\n",
    "plt.hlines(d_new_val[x], min(mass_dom), max(mass_dom)\n",
    "           , label = 'd_new = ' + str(int(d_new_val[x])) + ' Mpc: i = ' + str(np.round(inc_new_val[x],3)) + ' rads'\n",
    "           , color = 'g', linestyle  = '-.')\n",
    "\n",
    "\n",
    "plt.xlabel('Combined Mass')\n",
    "plt.ylabel('Distance [Mpc]')\n",
    "plt.title('Distance vs Mass : ' + str(GW_name[x]))\n",
    "plt.legend(fontsize=5)\n",
    "plt.grid()\n",
    "plt.show()"
   ]
  },
  {
   "cell_type": "code",
   "execution_count": 16,
   "metadata": {},
   "outputs": [
    {
     "data": {
      "image/png": "[encoded data removed]",
      "text/plain": [
       "<Figure size 576x360 with 1 Axes>"
      ]
     },
     "metadata": {
      "needs_background": "light"
     },
     "output_type": "display_data"
    }
   ],
   "source": [
    "x = 4\n",
    "n_dom = np.linspace(1,9, num = len(incs))\n",
    "\n",
    "plt.figure(figsize=(8,5))\n",
    "\n",
    "#plt.plot(np.array(d_old_dom[x])*100/ld[x], d_old_dom[x], label = 'Distance model (no n_guess)')\n",
    "plt.plot(np.array(d_old_dom[x])/ld[x],d_new_dom[x]\n",
    "         , label = '$d_{old}/d_{LIGO}$ = ' + str(np.round(np.array(d_new_val[x])/ld[x], 3)), linestyle = ':')\n",
    "#plt.hlines(ld[x], min(n_dom), max(n_dom), label = 'd_LIGO = '+ str(int(ld[x])) + ' Mpc', color = 'k', linestyle = ':')\n",
    "\n",
    "#plt.hlines(d_old[x], min(n_dom), max(n_dom), \n",
    "#           label = 'd_old = ' + str(int(d_old[x])) + ' Mpc: i = ' + str(np.round(inc_old_val[x],3)) + ' rads'\n",
    "#           , color = 'r', linestyle = '--')\n",
    "#plt.hlines(d_new_val[x], min(n_dom), max(n_dom)\n",
    "#           , label = 'd_new = ' + str(int(d_new_val[x])) + ' Mpc: i = ' + str(np.round(inc_new_val[x],3)) + ' rads'\n",
    "#           , color = 'g', linestyle  = '-.')\n",
    "\n",
    "plt.vlines(n_guess[x]/100, min(d_new_dom[x]), max(d_new_dom[x]),linestyle = ':', label = 'n_guess = ' + str(n_guess[x]))\n",
    "\n",
    "plt.hlines(d_new_val[x], 0, 5, label = 'd_new = '+ str(int(d_new_val[x])) + ' Mpc', color = 'k', linestyle = ':')\n",
    "\n",
    "\n",
    "#plt.xscale('log')\n",
    "\n",
    "plt.xlabel('$d_{old}/d_{LIGO}$')\n",
    "plt.ylabel('Distance [Mpc]')\n",
    "plt.title('Distance vs $d_{old}/d_{LIGO}$ : ' + str(GW_name[x]))\n",
    "plt.legend(fontsize=5)\n",
    "plt.grid()\n",
    "plt.show()"
   ]
  },
  {
   "cell_type": "code",
   "execution_count": 17,
   "metadata": {},
   "outputs": [
    {
     "data": {
      "text/plain": [
       "9.367734463979756"
      ]
     },
     "execution_count": 17,
     "metadata": {},
     "output_type": "execute_result"
    }
   ],
   "source": [
    "np.mean(np.array(d_old_dom[x])/ld[x])*100"
   ]
  },
  {
   "cell_type": "code",
   "execution_count": 18,
   "metadata": {},
   "outputs": [
    {
     "data": {
      "text/plain": [
       "array([0.12481991, 0.12481744, 0.12481002, 0.12479765, 0.12478034,\n",
       "       0.12475809, 0.1247309 , 0.12469878, 0.12466173, 0.12461976,\n",
       "       0.12457287, 0.12452107, 0.12446437, 0.12440278, 0.12433632,\n",
       "       0.12426498, 0.12418878, 0.12410773, 0.12402185, 0.12393115,\n",
       "       0.12383564, 0.12373534, 0.12363026, 0.12352043, 0.12340585,\n",
       "       0.12328656, 0.12316255, 0.12303387, 0.12290051, 0.12276252,\n",
       "       0.1226199 , 0.12247269, 0.1223209 , 0.12216456, 0.12200369,\n",
       "       0.12183832, 0.12166848, 0.12149419, 0.12131548, 0.12113237,\n",
       "       0.12094491, 0.12075311, 0.12055701, 0.12035664, 0.12015202,\n",
       "       0.1199432 , 0.11973021, 0.11951308, 0.11929184, 0.11906652,\n",
       "       0.11883718, 0.11860383, 0.11836652, 0.11812529, 0.11788018,\n",
       "       0.11763121, 0.11737844, 0.1171219 , 0.11686163, 0.11659768,\n",
       "       0.11633008, 0.11605888, 0.11578413, 0.11550586, 0.11522412,\n",
       "       0.11493895, 0.1146504 , 0.11435852, 0.11406334, 0.11376493,\n",
       "       0.11346332, 0.11315856, 0.11285071, 0.11253981, 0.1122259 ,\n",
       "       0.11190905, 0.11158929, 0.11126669, 0.11094128, 0.11061313,\n",
       "       0.11028228, 0.1099488 , 0.10961272, 0.1092741 , 0.10893301,\n",
       "       0.10858948, 0.10824358, 0.10789536, 0.10754488, 0.10719218,\n",
       "       0.10683734, 0.1064804 , 0.10612142, 0.10576045, 0.10539757,\n",
       "       0.10503281, 0.10466624, 0.10429792, 0.10392791, 0.10355626,\n",
       "       0.10318304, 0.10280829, 0.10243209, 0.1020545 , 0.10167556,\n",
       "       0.10129535, 0.10091392, 0.10053133, 0.10014765, 0.09976293,\n",
       "       0.09937723, 0.09899062, 0.09860316, 0.09821491, 0.09782593,\n",
       "       0.09743628, 0.09704603, 0.09665523, 0.09626395, 0.09587225,\n",
       "       0.09548019, 0.09508783, 0.09469525, 0.09430249, 0.09390962,\n",
       "       0.09351671, 0.09312381, 0.09273098, 0.0923383 , 0.09194583,\n",
       "       0.09155361, 0.09116172, 0.09077023, 0.09037918, 0.08998864,\n",
       "       0.08959869, 0.08920936, 0.08882074, 0.08843287, 0.08804583,\n",
       "       0.08765967, 0.08727446, 0.08689025, 0.0865071 , 0.08612509,\n",
       "       0.08574426, 0.08536468, 0.0849864 , 0.0846095 , 0.08423402,\n",
       "       0.08386003, 0.08348758, 0.08311675, 0.08274757, 0.08238012,\n",
       "       0.08201445, 0.08165062, 0.08128869, 0.08092871, 0.08057074,\n",
       "       0.08021484, 0.07986107, 0.07950947, 0.07916011, 0.07881305,\n",
       "       0.07846833, 0.07812601, 0.07778615, 0.07744879, 0.077114  ,\n",
       "       0.07678183, 0.07645232, 0.07612554, 0.07580153, 0.07548034,\n",
       "       0.07516203, 0.07484664, 0.07453423, 0.07422485, 0.07391854,\n",
       "       0.07361535, 0.07331533, 0.07301853, 0.072725  , 0.07243478,\n",
       "       0.07214791, 0.07186445, 0.07158444, 0.07130792, 0.07103494,\n",
       "       0.07076554, 0.07049976, 0.07023764, 0.06997923, 0.06972457,\n",
       "       0.0694737 , 0.06922665, 0.06898347, 0.0687442 , 0.06850887,\n",
       "       0.06827752, 0.06805018, 0.0678269 , 0.06760771, 0.06739264,\n",
       "       0.06718173, 0.06697501, 0.06677251, 0.06657427, 0.06638032,\n",
       "       0.06619068, 0.0660054 , 0.06582449, 0.06564798, 0.06547591,\n",
       "       0.0653083 , 0.06514518, 0.06498657, 0.06483251, 0.064683  ,\n",
       "       0.06453808, 0.06439777, 0.0642621 , 0.06413108, 0.06400473,\n",
       "       0.06388308, 0.06376614, 0.06365393, 0.06354647, 0.06344378,\n",
       "       0.06334588, 0.06325277, 0.06316448, 0.06308101, 0.06300239,\n",
       "       0.06292862, 0.06285971, 0.06279568, 0.06273654, 0.06268229,\n",
       "       0.06263294, 0.06258851, 0.062549  , 0.06251441, 0.06248476,\n",
       "       0.06246004, 0.06244025, 0.06242542, 0.06241552, 0.06241057,\n",
       "       0.06241057, 0.06241552, 0.06242542, 0.06244025, 0.06246004,\n",
       "       0.06248476, 0.06251441, 0.062549  , 0.06258851, 0.06263294,\n",
       "       0.06268229, 0.06273654, 0.06279568, 0.06285971, 0.06292862,\n",
       "       0.06300239, 0.06308101, 0.06316448, 0.06325277, 0.06334588,\n",
       "       0.06344378, 0.06354647, 0.06365393, 0.06376614, 0.06388308,\n",
       "       0.06400473, 0.06413108, 0.0642621 , 0.06439777, 0.06453808,\n",
       "       0.064683  , 0.06483251, 0.06498657, 0.06514518, 0.0653083 ,\n",
       "       0.06547591, 0.06564798, 0.06582449, 0.0660054 , 0.06619068,\n",
       "       0.06638032, 0.06657427, 0.06677251, 0.06697501, 0.06718173,\n",
       "       0.06739264, 0.06760771, 0.0678269 , 0.06805018, 0.06827752,\n",
       "       0.06850887, 0.0687442 , 0.06898347, 0.06922665, 0.0694737 ,\n",
       "       0.06972457, 0.06997923, 0.07023764, 0.07049976, 0.07076554,\n",
       "       0.07103494, 0.07130792, 0.07158444, 0.07186445, 0.07214791,\n",
       "       0.07243478, 0.072725  , 0.07301853, 0.07331533, 0.07361535,\n",
       "       0.07391854, 0.07422485, 0.07453423, 0.07484664, 0.07516203,\n",
       "       0.07548034, 0.07580153, 0.07612554, 0.07645232, 0.07678183,\n",
       "       0.077114  , 0.07744879, 0.07778615, 0.07812601, 0.07846833,\n",
       "       0.07881305, 0.07916011, 0.07950947, 0.07986107, 0.08021484,\n",
       "       0.08057074, 0.08092871, 0.08128869, 0.08165062, 0.08201445,\n",
       "       0.08238012, 0.08274757, 0.08311675, 0.08348758, 0.08386003,\n",
       "       0.08423402, 0.0846095 , 0.0849864 , 0.08536468, 0.08574426,\n",
       "       0.08612509, 0.0865071 , 0.08689025, 0.08727446, 0.08765967,\n",
       "       0.08804583, 0.08843287, 0.08882074, 0.08920936, 0.08959869,\n",
       "       0.08998864, 0.09037918, 0.09077023, 0.09116172, 0.09155361,\n",
       "       0.09194583, 0.0923383 , 0.09273098, 0.09312381, 0.09351671,\n",
       "       0.09390962, 0.09430249, 0.09469525, 0.09508783, 0.09548019,\n",
       "       0.09587225, 0.09626395, 0.09665523, 0.09704603, 0.09743628,\n",
       "       0.09782593, 0.09821491, 0.09860316, 0.09899062, 0.09937723,\n",
       "       0.09976293, 0.10014765, 0.10053133, 0.10091392, 0.10129535,\n",
       "       0.10167556, 0.1020545 , 0.10243209, 0.10280829, 0.10318304,\n",
       "       0.10355626, 0.10392791, 0.10429792, 0.10466624, 0.10503281,\n",
       "       0.10539757, 0.10576045, 0.10612142, 0.1064804 , 0.10683734,\n",
       "       0.10719218, 0.10754488, 0.10789536, 0.10824358, 0.10858948,\n",
       "       0.10893301, 0.1092741 , 0.10961272, 0.1099488 , 0.11028228,\n",
       "       0.11061313, 0.11094128, 0.11126669, 0.11158929, 0.11190905,\n",
       "       0.1122259 , 0.11253981, 0.11285071, 0.11315856, 0.11346332,\n",
       "       0.11376493, 0.11406334, 0.11435852, 0.1146504 , 0.11493895,\n",
       "       0.11522412, 0.11550586, 0.11578413, 0.11605888, 0.11633008,\n",
       "       0.11659768, 0.11686163, 0.1171219 , 0.11737844, 0.11763121,\n",
       "       0.11788018, 0.11812529, 0.11836652, 0.11860383, 0.11883718,\n",
       "       0.11906652, 0.11929184, 0.11951308, 0.11973021, 0.1199432 ,\n",
       "       0.12015202, 0.12035664, 0.12055701, 0.12075311, 0.12094491,\n",
       "       0.12113237, 0.12131548, 0.12149419, 0.12166848, 0.12183832,\n",
       "       0.12200369, 0.12216456, 0.1223209 , 0.12247269, 0.1226199 ,\n",
       "       0.12276252, 0.12290051, 0.12303387, 0.12316255, 0.12328656,\n",
       "       0.12340585, 0.12352043, 0.12363026, 0.12373534, 0.12383564,\n",
       "       0.12393115, 0.12402185, 0.12410773, 0.12418878, 0.12426498,\n",
       "       0.12433632, 0.12440278, 0.12446437, 0.12452107, 0.12457287,\n",
       "       0.12461976, 0.12466173, 0.12469878, 0.1247309 , 0.12475809,\n",
       "       0.12478034, 0.12479765, 0.12481002, 0.12481744, 0.12481991])"
      ]
     },
     "execution_count": 18,
     "metadata": {},
     "output_type": "execute_result"
    }
   ],
   "source": [
    "np.array(d_old_dom[x])/ld[x]"
   ]
  },
  {
   "cell_type": "code",
   "execution_count": 19,
   "metadata": {},
   "outputs": [
    {
     "data": {
      "text/plain": [
       "1.2427272842601703e-18"
      ]
     },
     "execution_count": 19,
     "metadata": {},
     "output_type": "execute_result"
    }
   ],
   "source": [
    "# check redshift \n",
    "\n",
    "strain_max[x]"
   ]
  },
  {
   "cell_type": "code",
   "execution_count": null,
   "metadata": {},
   "outputs": [],
   "source": []
  }
 ],
 "metadata": {
  "kernelspec": {
   "display_name": "Python 3",
   "language": "python",
   "name": "python3"
  },
  "language_info": {
   "codemirror_mode": {
    "name": "ipython",
    "version": 3
   },
   "file_extension": ".py",
   "mimetype": "text/x-python",
   "name": "python",
   "nbconvert_exporter": "python",
   "pygments_lexer": "ipython3",
   "version": "3.7.3"
  }
 },
 "nbformat": 4,
 "nbformat_minor": 2
}
