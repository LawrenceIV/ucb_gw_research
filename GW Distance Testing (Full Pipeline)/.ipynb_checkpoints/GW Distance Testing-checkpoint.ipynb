{
 "cells": [
  {
   "cell_type": "code",
   "execution_count": 1,
   "metadata": {},
   "outputs": [],
   "source": [
    "import GWDistancePipeline\n",
    "import numpy as np\n",
    "from astropy.table import Table"
   ]
  },
  {
   "cell_type": "code",
   "execution_count": 2,
   "metadata": {},
   "outputs": [],
   "source": [
    "ss_calc = GWDistancePipeline.Standard_Siren_caclulator"
   ]
  },
  {
   "cell_type": "markdown",
   "metadata": {},
   "source": [
    "# Data (Sample 1)"
   ]
  },
  {
   "cell_type": "code",
   "execution_count": 3,
   "metadata": {},
   "outputs": [],
   "source": [
    "GW190521 = np.load('GW190521.npz')\n",
    "GW190814 = np.load('GW190814.npz')\n",
    "GW190412 = np.load('GW190412.npz')\n",
    "GW190425 = np.load('GW190425.npz')\n",
    "GW170817 = np.load('GW170817.npz')\n",
    "GW170814 = np.load('GW170814.npz')\n",
    "GW170608 = np.load('GW170608.npz')\n",
    "GW170104 = np.load('GW170104.npz')\n",
    "GW151226 = np.load('GW151226.npz')\n",
    "GW150914 = np.load('GW150914.npz')"
   ]
  },
  {
   "cell_type": "code",
   "execution_count": 4,
   "metadata": {},
   "outputs": [],
   "source": [
    "GW190521_strain_arr = GW190521['strain']\n",
    "GW190814_strain_arr = GW190814['strain']\n",
    "GW190412_strain_arr = GW190412['strain']\n",
    "GW190425_strain_arr = GW190425['strain']\n",
    "GW170817_strain_arr = GW170817['strain']\n",
    "GW170814_strain_arr = GW170814['strain']\n",
    "GW170608_strain_arr = GW170608['strain']\n",
    "GW170104_strain_arr = GW170104['strain']\n",
    "GW151226_strain_arr = GW151226['strain']\n",
    "GW150914_strain_arr = GW150914['strain']"
   ]
  },
  {
   "cell_type": "markdown",
   "metadata": {},
   "source": [
    "# Module Calibration Test"
   ]
  },
  {
   "cell_type": "code",
   "execution_count": 5,
   "metadata": {},
   "outputs": [],
   "source": [
    "# Origional Data\n",
    "\n",
    "# Input Arrays for best_distances\n",
    "GW_name = ['GW190521', 'GW190814', 'GW190412', 'GW190425','GW170817 (kilanova)',  'GW170814', \n",
    "          'GW170608', 'GW170104', 'GW151226', 'GW150914']\n",
    "\n",
    "ld = [5300, 241, 740, 159, 40, 600, 320, 990, 450, 440] # Mpc\n",
    "ld_up_un = [2400, 41, 130, 69, 7, 150, 120, 440, 180, 150] # Mpc\n",
    "ld_dn_un = [2600, 45, 160, 71, 15, 220, 110, 430, 190, 170] # Mpc\n",
    "\n",
    "time = [32, 32, 32, 32, 32, 32, 32, 32, 32, 32] # s\n",
    "\n",
    "mass = [150, 25.8, 38.4, 3.4, 2.8, 53.2, 17.8, 48.9, 20.5, 63.1] # M_sol\n",
    "mass_up_err = [29,1, 3.8, 0.3, 0, 3.2, 3.4, 5.1, 6.4, 3.4] # M_sol\n",
    "mass_dn_err = [17, 0.9, 3.9, 0.1, 0, 2.4, 0.7, 4.0, 1.5, 3.0] # M_sol\n",
    "\n",
    "z_act = [0.82, 0.053, 0.15, 0.03, 0.01, 0.12, 0.07, 0.20, 0.09, 0.09] # kila nova has 0 error in z\n",
    "z_up_err = [0.28, 0.009, 0.03, 0.01, 0, 0.03, 0.02, 0.08, 0.04, 0.03]\n",
    "z_dn_err = [0.34, 0.010, 0.03, 0.02, 0, 0.04, 0.02, 0.08, 0.04, 0.03]\n",
    "\n",
    "str_arr = [np.array(GW190521_strain_arr), np.array(GW190814_strain_arr), np.array(GW190412_strain_arr),\n",
    "          np.array(GW190425_strain_arr), np.array(GW170817_strain_arr), np.array(GW170814_strain_arr),\n",
    "           np.array(GW170608_strain_arr), np.array(GW170104_strain_arr), np.array(GW151226_strain_arr), \n",
    "           np.array(GW150914_strain_arr)]\n",
    "\n",
    "strain_max = GWDistancePipeline.max_strain(str_arr)\n",
    "strain_avg = GWDistancePipeline.avg_strain(str_arr)\n",
    "\n",
    "\n",
    "ld_ulim = []\n",
    "ld_llim = [] \n",
    "\n",
    "mass_ulim = []\n",
    "mass_llim = []\n",
    "\n",
    "z_ulim_act = []\n",
    "z_llim_act = []\n",
    "\n",
    "for i in np.arange(len(ld)):\n",
    "    d_ulim = ld[i] + ld_up_un[i]\n",
    "    d_llim = ld[i] - ld_dn_un[i]\n",
    "    \n",
    "    m_ulim = mass[i] + mass_up_err[i]\n",
    "    m_llim = mass[i] - mass_dn_err[i]\n",
    "    \n",
    "    z_ulim = z_act[i] + z_up_err[i]\n",
    "    z_llim = z_act[i] - z_dn_err[i]\n",
    "    \n",
    "    ld_ulim.append(d_ulim)\n",
    "    ld_llim.append(d_llim)\n",
    "    \n",
    "    mass_ulim.append(m_ulim)\n",
    "    mass_llim.append(m_llim)\n",
    "    \n",
    "    z_ulim_act.append(z_ulim)\n",
    "    z_llim_act.append(z_llim)"
   ]
  },
  {
   "cell_type": "code",
   "execution_count": 6,
   "metadata": {},
   "outputs": [
    {
     "data": {
      "text/plain": [
       "([3.2880256024887114e-19,\n",
       "  2.2638776376416897e-19,\n",
       "  7.765473186534077e-19,\n",
       "  1.1516671707217659e-18,\n",
       "  1.2427272842601703e-18,\n",
       "  1.0322913226585846e-18,\n",
       "  1.2159378610812219e-18,\n",
       "  1.1109646568143848e-18,\n",
       "  7.994380282964514e-19,\n",
       "  7.912043421880075e-19],\n",
       " [3.358437563772369e-24,\n",
       "  4.9054693279605344e-24,\n",
       "  1.67180115177027e-22,\n",
       "  2.145188087683261e-22,\n",
       "  3.389175330772537e-22,\n",
       "  1.3086065145845055e-21,\n",
       "  5.073192323606241e-22,\n",
       "  1.6856863380649997e-21,\n",
       "  7.267545172594983e-22,\n",
       "  3.7760310970740874e-23])"
      ]
     },
     "execution_count": 6,
     "metadata": {},
     "output_type": "execute_result"
    }
   ],
   "source": [
    "strain_max, strain_avg"
   ]
  },
  {
   "cell_type": "code",
   "execution_count": 7,
   "metadata": {},
   "outputs": [
    {
     "data": {
      "image/png": "[encoded data removed]",
      "text/plain": [
       "<Figure size 576x360 with 1 Axes>"
      ]
     },
     "metadata": {
      "needs_background": "light"
     },
     "output_type": "display_data"
    },
    {
     "name": "stdout",
     "output_type": "stream",
     "text": [
      "Results for each GW\n",
      "GW170817 (kilanova)\n",
      "-------------------\n",
      "z ≈ 0.01\n",
      "n ≈ 9\n",
      "D_guess ~ 39.966 ± 7.0 Mpc\n",
      "i_guess ≈ 2.652 rad, 152.0°\n",
      "H0_estimate ≈ 75.063 ± 0.205 km/s/Mpc\n",
      "\n",
      "GW190425\n",
      "-------------------\n",
      "z ≈ 0.03\n",
      "n ≈ 9\n",
      "D_guess ~ 159.001 ± 69.0 Mpc\n",
      "i_guess ≈ 3.054 rad, 175.0°\n",
      "H0_estimate ≈ 56.603 ± 18.87 km/s/Mpc\n",
      "\n",
      "GW170608\n",
      "-------------------\n",
      "z ≈ 0.07\n",
      "n ≈ 3.0\n",
      "D_guess ~ 320.145 ± 120.0 Mpc\n",
      "i_guess ≈ 0.528 rad, 30.0°\n",
      "H0_estimate ≈ 65.595 ± 19.082 km/s/Mpc\n",
      "\n",
      "GW150914\n",
      "-------------------\n",
      "z ≈ 0.09\n",
      "n ≈ 1.0\n",
      "D_guess ~ 439.46 ± 150.0 Mpc\n",
      "i_guess ≈ 1.225 rad, 70.0°\n",
      "H0_estimate ≈ 61.439 ± 29.31 km/s/Mpc\n",
      "\n",
      "GW151226\n",
      "-------------------\n",
      "z ≈ 0.09\n",
      "n ≈ 3.0\n",
      "D_guess ~ 450.039 ± 180.0 Mpc\n",
      "i_guess ≈ 0.616 rad, 35.0°\n",
      "H0_estimate ≈ 59.995 ± 26.94 km/s/Mpc\n",
      "\n",
      "GW190521\n",
      "-------------------\n",
      "z ≈ 0.82\n",
      "n ≈ 1.0\n",
      "D_guess ~ 5294.293 ± 2400.0 Mpc\n",
      "i_guess ≈ 0.892 rad, 51.0°\n",
      "H0_estimate ≈ 46.465 ± 26.367 km/s/Mpc\n",
      "\n",
      "--\n",
      " \n",
      "Final Results\n",
      "------------------------\n",
      "H0 including GW170817: H0 ~ 75.056 ± 0.2048 km/s/Mpc\n",
      "H0 excluding GW170817: H0 ~ 58.744 ± 10.2409 km/s/Mpc\n"
     ]
    }
   ],
   "source": [
    "ssc_test_max = ss_calc(ld, time, mass, strain_max, z_act, GW_name, ld_up_un, z_up_err, prt=True, plot=True)"
   ]
  },
  {
   "cell_type": "code",
   "execution_count": 8,
   "metadata": {},
   "outputs": [
    {
     "data": {
      "text/plain": [
       "[1.0, 9, 9, 3.0, 3.0, 1.0]"
      ]
     },
     "execution_count": 8,
     "metadata": {},
     "output_type": "execute_result"
    }
   ],
   "source": [
    "ssc_test_max[4]"
   ]
  },
  {
   "cell_type": "code",
   "execution_count": null,
   "metadata": {},
   "outputs": [],
   "source": []
  },
  {
   "cell_type": "code",
   "execution_count": null,
   "metadata": {},
   "outputs": [],
   "source": []
  }
 ],
 "metadata": {
  "kernelspec": {
   "display_name": "Python 3",
   "language": "python",
   "name": "python3"
  },
  "language_info": {
   "codemirror_mode": {
    "name": "ipython",
    "version": 3
   },
   "file_extension": ".py",
   "mimetype": "text/x-python",
   "name": "python",
   "nbconvert_exporter": "python",
   "pygments_lexer": "ipython3",
   "version": "3.7.3"
  }
 },
 "nbformat": 4,
 "nbformat_minor": 2
}
